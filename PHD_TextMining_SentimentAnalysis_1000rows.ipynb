{
 "cells": [
  {
   "cell_type": "code",
   "execution_count": 1,
   "metadata": {},
   "outputs": [
    {
     "name": "stderr",
     "output_type": "stream",
     "text": [
      "C:\\Users\\Sowmya\\Anaconda3\\lib\\site-packages\\sklearn\\cross_validation.py:41: DeprecationWarning: This module was deprecated in version 0.18 in favor of the model_selection module into which all the refactored classes and functions are moved. Also note that the interface of the new CV iterators are different from that of this module. This module will be removed in 0.20.\n",
      "  \"This module will be removed in 0.20.\", DeprecationWarning)\n"
     ]
    }
   ],
   "source": [
    "# import libraries\n",
    "import os \n",
    "import re  \n",
    "import pandas as pd\n",
    "\n",
    "# We will use the following Scikit-Learn classes for the activity\n",
    "from sklearn.metrics import confusion_matrix\n",
    "#from sklearn.feature_extraction.text import CountVectorizer\n",
    "from sklearn.feature_extraction.text import TfidfVectorizer\n",
    "from sklearn.cross_validation import train_test_split\n",
    "from sklearn import svm\n",
    "from sklearn import metrics"
   ]
  },
  {
   "cell_type": "code",
   "execution_count": 2,
   "metadata": {},
   "outputs": [],
   "source": [
    "import matplotlib.pyplot as plt\n",
    "import pandas as pd\n",
    "import numpy as np\n",
    "import seaborn as sns\n",
    "import plotly\n",
    "import plotly.offline as pyoff\n",
    "import plotly.figure_factory as ff\n",
    "from plotly.offline import init_notebook_mode, iplot, plot\n",
    "import plotly.graph_objs as go\n",
    "import squarify # for tree maps\n",
    "%matplotlib inline"
   ]
  },
  {
   "cell_type": "code",
   "execution_count": 3,
   "metadata": {},
   "outputs": [],
   "source": [
    "# use nltk libraries for text preprocessing\n",
    "import nltk\n",
    "from nltk.corpus import stopwords\n",
    "from nltk.corpus import RegexpTokenizer as regextoken"
   ]
  },
  {
   "cell_type": "code",
   "execution_count": 4,
   "metadata": {},
   "outputs": [],
   "source": [
    "from textblob import TextBlob\n",
    "from autocorrect import spell\n",
    "import wordsegment\n",
    "from wordsegment import load, segment"
   ]
  },
  {
   "cell_type": "code",
   "execution_count": 5,
   "metadata": {},
   "outputs": [
    {
     "data": {
      "text/plain": [
       "'C:\\\\Users\\\\Sowmya\\\\Downloads\\\\DL_TM_Cute\\\\Cute_CSE7321c_Santosh_Yeleri'"
      ]
     },
     "execution_count": 5,
     "metadata": {},
     "output_type": "execute_result"
    }
   ],
   "source": [
    "# set directory\n",
    "import os\n",
    " \n",
    "os.getcwd()"
   ]
  },
  {
   "cell_type": "code",
   "execution_count": 6,
   "metadata": {},
   "outputs": [],
   "source": [
    "os.chdir('C:\\\\Users\\\\Sowmya\\\\Downloads\\\\PHD\\\\Model_Practice')"
   ]
  },
  {
   "cell_type": "code",
   "execution_count": 7,
   "metadata": {},
   "outputs": [
    {
     "data": {
      "text/plain": [
       "'C:\\\\Users\\\\Sowmya\\\\Downloads\\\\PHD\\\\Model_Practice'"
      ]
     },
     "execution_count": 7,
     "metadata": {},
     "output_type": "execute_result"
    }
   ],
   "source": [
    "pwd()"
   ]
  },
  {
   "cell_type": "code",
   "execution_count": 8,
   "metadata": {},
   "outputs": [],
   "source": [
    "#reading train data\n",
    "GD_train = pd.read_csv('GrievancesData_Train.csv')"
   ]
  },
  {
   "cell_type": "code",
   "execution_count": 9,
   "metadata": {},
   "outputs": [
    {
     "data": {
      "text/html": [
       "<div>\n",
       "<style scoped>\n",
       "    .dataframe tbody tr th:only-of-type {\n",
       "        vertical-align: middle;\n",
       "    }\n",
       "\n",
       "    .dataframe tbody tr th {\n",
       "        vertical-align: top;\n",
       "    }\n",
       "\n",
       "    .dataframe thead th {\n",
       "        text-align: right;\n",
       "    }\n",
       "</style>\n",
       "<table border=\"1\" class=\"dataframe\">\n",
       "  <thead>\n",
       "    <tr style=\"text-align: right;\">\n",
       "      <th></th>\n",
       "      <th>GrievanceID</th>\n",
       "      <th>BankID</th>\n",
       "      <th>State</th>\n",
       "      <th>DateOfGrievance</th>\n",
       "      <th>Grievance_Category</th>\n",
       "      <th>GrievanceDescription</th>\n",
       "      <th>LineOfBusiness</th>\n",
       "      <th>ResolutionComments</th>\n",
       "      <th>Disputed</th>\n",
       "      <th>DateOfResolution</th>\n",
       "    </tr>\n",
       "  </thead>\n",
       "  <tbody>\n",
       "    <tr>\n",
       "      <th>0</th>\n",
       "      <td>GID512411</td>\n",
       "      <td>Bank5279</td>\n",
       "      <td>State31</td>\n",
       "      <td>2016-01-19</td>\n",
       "      <td>Settlement process and costs</td>\n",
       "      <td>Bank5279 Research dpt. \\nXXXX XXXX XXXX XXXX,...</td>\n",
       "      <td>Mortgage</td>\n",
       "      <td>Closed with explanation</td>\n",
       "      <td>No</td>\n",
       "      <td>2016-01-30</td>\n",
       "    </tr>\n",
       "    <tr>\n",
       "      <th>1</th>\n",
       "      <td>GID512412</td>\n",
       "      <td>Bank5287</td>\n",
       "      <td>State26</td>\n",
       "      <td>2016-01-19</td>\n",
       "      <td>Application, originator, mortgage broker</td>\n",
       "      <td>I had a mortgage with from XXXX of XXXX to XX...</td>\n",
       "      <td>Mortgage</td>\n",
       "      <td>Closed with explanation</td>\n",
       "      <td>Yes</td>\n",
       "      <td>2016-02-10</td>\n",
       "    </tr>\n",
       "    <tr>\n",
       "      <th>2</th>\n",
       "      <td>GID512413</td>\n",
       "      <td>Bank5286</td>\n",
       "      <td>State14</td>\n",
       "      <td>2016-01-19</td>\n",
       "      <td>Billing disputes</td>\n",
       "      <td>In XXXX XXXX, I was given a {$1100.00} credit...</td>\n",
       "      <td>Credit card</td>\n",
       "      <td>Closed with monetary relief</td>\n",
       "      <td>Yes</td>\n",
       "      <td>2016-02-10</td>\n",
       "    </tr>\n",
       "    <tr>\n",
       "      <th>3</th>\n",
       "      <td>GID512415</td>\n",
       "      <td>Bank5279</td>\n",
       "      <td>State53</td>\n",
       "      <td>2016-01-19</td>\n",
       "      <td>Loan servicing, payments, escrow account</td>\n",
       "      <td>Our Mortgage was sold to Bank5279 in XXXX of ...</td>\n",
       "      <td>Mortgage</td>\n",
       "      <td>Closed with explanation</td>\n",
       "      <td>No</td>\n",
       "      <td>2016-01-30</td>\n",
       "    </tr>\n",
       "    <tr>\n",
       "      <th>4</th>\n",
       "      <td>GID512417</td>\n",
       "      <td>Bank5286</td>\n",
       "      <td>State37</td>\n",
       "      <td>2016-01-19</td>\n",
       "      <td>Loan modification,collection,foreclosure</td>\n",
       "      <td>We started dealing with Citi Mortgage back in...</td>\n",
       "      <td>Mortgage</td>\n",
       "      <td>Closed with explanation</td>\n",
       "      <td>No</td>\n",
       "      <td>2016-01-30</td>\n",
       "    </tr>\n",
       "  </tbody>\n",
       "</table>\n",
       "</div>"
      ],
      "text/plain": [
       "  GrievanceID    BankID    State DateOfGrievance  \\\n",
       "0   GID512411  Bank5279  State31      2016-01-19   \n",
       "1   GID512412  Bank5287  State26      2016-01-19   \n",
       "2   GID512413  Bank5286  State14      2016-01-19   \n",
       "3   GID512415  Bank5279  State53      2016-01-19   \n",
       "4   GID512417  Bank5286  State37      2016-01-19   \n",
       "\n",
       "                         Grievance_Category  \\\n",
       "0              Settlement process and costs   \n",
       "1  Application, originator, mortgage broker   \n",
       "2                          Billing disputes   \n",
       "3  Loan servicing, payments, escrow account   \n",
       "4  Loan modification,collection,foreclosure   \n",
       "\n",
       "                                GrievanceDescription LineOfBusiness  \\\n",
       "0   Bank5279 Research dpt. \\nXXXX XXXX XXXX XXXX,...       Mortgage   \n",
       "1   I had a mortgage with from XXXX of XXXX to XX...       Mortgage   \n",
       "2   In XXXX XXXX, I was given a {$1100.00} credit...    Credit card   \n",
       "3   Our Mortgage was sold to Bank5279 in XXXX of ...       Mortgage   \n",
       "4   We started dealing with Citi Mortgage back in...       Mortgage   \n",
       "\n",
       "            ResolutionComments Disputed DateOfResolution  \n",
       "0      Closed with explanation       No       2016-01-30  \n",
       "1      Closed with explanation      Yes       2016-02-10  \n",
       "2  Closed with monetary relief      Yes       2016-02-10  \n",
       "3      Closed with explanation       No       2016-01-30  \n",
       "4      Closed with explanation       No       2016-01-30  "
      ]
     },
     "execution_count": 9,
     "metadata": {},
     "output_type": "execute_result"
    }
   ],
   "source": [
    "GD_train.head()"
   ]
  },
  {
   "cell_type": "code",
   "execution_count": 10,
   "metadata": {},
   "outputs": [],
   "source": [
    "GD_train_Text = GD_train[[\"GrievanceDescription\",\"Disputed\"]]\n"
   ]
  },
  {
   "cell_type": "code",
   "execution_count": 11,
   "metadata": {},
   "outputs": [
    {
     "data": {
      "text/html": [
       "<div>\n",
       "<style scoped>\n",
       "    .dataframe tbody tr th:only-of-type {\n",
       "        vertical-align: middle;\n",
       "    }\n",
       "\n",
       "    .dataframe tbody tr th {\n",
       "        vertical-align: top;\n",
       "    }\n",
       "\n",
       "    .dataframe thead th {\n",
       "        text-align: right;\n",
       "    }\n",
       "</style>\n",
       "<table border=\"1\" class=\"dataframe\">\n",
       "  <thead>\n",
       "    <tr style=\"text-align: right;\">\n",
       "      <th></th>\n",
       "      <th>GrievanceDescription</th>\n",
       "      <th>Disputed</th>\n",
       "    </tr>\n",
       "  </thead>\n",
       "  <tbody>\n",
       "    <tr>\n",
       "      <th>0</th>\n",
       "      <td>Bank5279 Research dpt. \\nXXXX XXXX XXXX XXXX,...</td>\n",
       "      <td>No</td>\n",
       "    </tr>\n",
       "    <tr>\n",
       "      <th>1</th>\n",
       "      <td>I had a mortgage with from XXXX of XXXX to XX...</td>\n",
       "      <td>Yes</td>\n",
       "    </tr>\n",
       "    <tr>\n",
       "      <th>2</th>\n",
       "      <td>In XXXX XXXX, I was given a {$1100.00} credit...</td>\n",
       "      <td>Yes</td>\n",
       "    </tr>\n",
       "    <tr>\n",
       "      <th>3</th>\n",
       "      <td>Our Mortgage was sold to Bank5279 in XXXX of ...</td>\n",
       "      <td>No</td>\n",
       "    </tr>\n",
       "    <tr>\n",
       "      <th>4</th>\n",
       "      <td>We started dealing with Citi Mortgage back in...</td>\n",
       "      <td>No</td>\n",
       "    </tr>\n",
       "    <tr>\n",
       "      <th>5</th>\n",
       "      <td>Trouble with how payments are handled My husba...</td>\n",
       "      <td>No</td>\n",
       "    </tr>\n",
       "    <tr>\n",
       "      <th>6</th>\n",
       "      <td>TOO BIG TO FAIL AND CARE We are in our XXXX, ...</td>\n",
       "      <td>Yes</td>\n",
       "    </tr>\n",
       "    <tr>\n",
       "      <th>7</th>\n",
       "      <td>I have a car loan with Bank5397. In XXXX of 2...</td>\n",
       "      <td>No</td>\n",
       "    </tr>\n",
       "    <tr>\n",
       "      <th>8</th>\n",
       "      <td>Ocwen loan servicing is the servicer of my lo...</td>\n",
       "      <td>Yes</td>\n",
       "    </tr>\n",
       "    <tr>\n",
       "      <th>9</th>\n",
       "      <td>We are trying to close a new Mortgage we have...</td>\n",
       "      <td>No</td>\n",
       "    </tr>\n",
       "  </tbody>\n",
       "</table>\n",
       "</div>"
      ],
      "text/plain": [
       "                                GrievanceDescription Disputed\n",
       "0   Bank5279 Research dpt. \\nXXXX XXXX XXXX XXXX,...       No\n",
       "1   I had a mortgage with from XXXX of XXXX to XX...      Yes\n",
       "2   In XXXX XXXX, I was given a {$1100.00} credit...      Yes\n",
       "3   Our Mortgage was sold to Bank5279 in XXXX of ...       No\n",
       "4   We started dealing with Citi Mortgage back in...       No\n",
       "5  Trouble with how payments are handled My husba...       No\n",
       "6   TOO BIG TO FAIL AND CARE We are in our XXXX, ...      Yes\n",
       "7   I have a car loan with Bank5397. In XXXX of 2...       No\n",
       "8   Ocwen loan servicing is the servicer of my lo...      Yes\n",
       "9   We are trying to close a new Mortgage we have...       No"
      ]
     },
     "execution_count": 11,
     "metadata": {},
     "output_type": "execute_result"
    }
   ],
   "source": [
    "GD_train_Text.head(10)"
   ]
  },
  {
   "cell_type": "code",
   "execution_count": 12,
   "metadata": {},
   "outputs": [
    {
     "data": {
      "text/html": [
       "<script type=\"text/javascript\">window.PlotlyConfig = {MathJaxConfig: 'local'};</script><script type=\"text/javascript\">if (window.MathJax) {MathJax.Hub.Config({SVG: {font: \"STIX-Web\"}});}</script><script>requirejs.config({paths: { 'plotly': ['https://cdn.plot.ly/plotly-latest.min']},});if(!window._Plotly) {require(['plotly'],function(plotly) {window._Plotly=plotly;});}</script>"
      ],
      "text/vnd.plotly.v1+html": [
       "<script type=\"text/javascript\">window.PlotlyConfig = {MathJaxConfig: 'local'};</script><script type=\"text/javascript\">if (window.MathJax) {MathJax.Hub.Config({SVG: {font: \"STIX-Web\"}});}</script><script>requirejs.config({paths: { 'plotly': ['https://cdn.plot.ly/plotly-latest.min']},});if(!window._Plotly) {require(['plotly'],function(plotly) {window._Plotly=plotly;});}</script>"
      ]
     },
     "metadata": {},
     "output_type": "display_data"
    }
   ],
   "source": [
    "init_notebook_mode(connected=True)"
   ]
  },
  {
   "cell_type": "code",
   "execution_count": 13,
   "metadata": {},
   "outputs": [
    {
     "data": {
      "text/plain": [
       "No     41895\n",
       "Yes    11785\n",
       "Name: Disputed, dtype: int64"
      ]
     },
     "execution_count": 13,
     "metadata": {},
     "output_type": "execute_result"
    }
   ],
   "source": [
    "GD_train_Text.Disputed.value_counts()"
   ]
  },
  {
   "cell_type": "code",
   "execution_count": 14,
   "metadata": {},
   "outputs": [
    {
     "data": {
      "text/plain": [
       "GrievanceDescription    object\n",
       "Disputed                object\n",
       "dtype: object"
      ]
     },
     "execution_count": 14,
     "metadata": {},
     "output_type": "execute_result"
    }
   ],
   "source": [
    "GD_train_Text.dtypes"
   ]
  },
  {
   "cell_type": "code",
   "execution_count": 15,
   "metadata": {},
   "outputs": [
    {
     "data": {
      "text/plain": [
       "GrievanceDescription    0\n",
       "Disputed                0\n",
       "dtype: int64"
      ]
     },
     "execution_count": 15,
     "metadata": {},
     "output_type": "execute_result"
    }
   ],
   "source": [
    "GD_train_Text.isnull().sum()"
   ]
  },
  {
   "cell_type": "code",
   "execution_count": 16,
   "metadata": {
    "collapsed": true
   },
   "outputs": [
    {
     "data": {
      "text/plain": [
       "0         No\n",
       "1        Yes\n",
       "2        Yes\n",
       "3         No\n",
       "4         No\n",
       "5         No\n",
       "6        Yes\n",
       "7         No\n",
       "8        Yes\n",
       "9         No\n",
       "10       Yes\n",
       "11        No\n",
       "12       Yes\n",
       "13        No\n",
       "14       Yes\n",
       "15       Yes\n",
       "16        No\n",
       "17        No\n",
       "18        No\n",
       "19       Yes\n",
       "20       Yes\n",
       "21       Yes\n",
       "22        No\n",
       "23       Yes\n",
       "24        No\n",
       "25        No\n",
       "26        No\n",
       "27        No\n",
       "28       Yes\n",
       "29        No\n",
       "        ... \n",
       "53650     No\n",
       "53651     No\n",
       "53652     No\n",
       "53653     No\n",
       "53654     No\n",
       "53655     No\n",
       "53656     No\n",
       "53657     No\n",
       "53658     No\n",
       "53659     No\n",
       "53660     No\n",
       "53661     No\n",
       "53662     No\n",
       "53663     No\n",
       "53664     No\n",
       "53665     No\n",
       "53666     No\n",
       "53667     No\n",
       "53668     No\n",
       "53669     No\n",
       "53670     No\n",
       "53671     No\n",
       "53672     No\n",
       "53673     No\n",
       "53674     No\n",
       "53675     No\n",
       "53676     No\n",
       "53677     No\n",
       "53678     No\n",
       "53679     No\n",
       "Name: Disputed, Length: 53680, dtype: object"
      ]
     },
     "execution_count": 16,
     "metadata": {},
     "output_type": "execute_result"
    }
   ],
   "source": [
    "\n",
    "GD_train_Text.Disputed"
   ]
  },
  {
   "cell_type": "code",
   "execution_count": 17,
   "metadata": {},
   "outputs": [],
   "source": [
    "GD_train_Text.Disputed = GD_train_Text.Disputed.replace('No',0)\n"
   ]
  },
  {
   "cell_type": "code",
   "execution_count": 18,
   "metadata": {},
   "outputs": [],
   "source": [
    "GD_train_Text.Disputed = GD_train_Text.Disputed.replace('Yes',1)"
   ]
  },
  {
   "cell_type": "code",
   "execution_count": 19,
   "metadata": {
    "collapsed": true
   },
   "outputs": [
    {
     "data": {
      "text/plain": [
       "0        0\n",
       "1        1\n",
       "2        1\n",
       "3        0\n",
       "4        0\n",
       "5        0\n",
       "6        1\n",
       "7        0\n",
       "8        1\n",
       "9        0\n",
       "10       1\n",
       "11       0\n",
       "12       1\n",
       "13       0\n",
       "14       1\n",
       "15       1\n",
       "16       0\n",
       "17       0\n",
       "18       0\n",
       "19       1\n",
       "20       1\n",
       "21       1\n",
       "22       0\n",
       "23       1\n",
       "24       0\n",
       "25       0\n",
       "26       0\n",
       "27       0\n",
       "28       1\n",
       "29       0\n",
       "        ..\n",
       "53650    0\n",
       "53651    0\n",
       "53652    0\n",
       "53653    0\n",
       "53654    0\n",
       "53655    0\n",
       "53656    0\n",
       "53657    0\n",
       "53658    0\n",
       "53659    0\n",
       "53660    0\n",
       "53661    0\n",
       "53662    0\n",
       "53663    0\n",
       "53664    0\n",
       "53665    0\n",
       "53666    0\n",
       "53667    0\n",
       "53668    0\n",
       "53669    0\n",
       "53670    0\n",
       "53671    0\n",
       "53672    0\n",
       "53673    0\n",
       "53674    0\n",
       "53675    0\n",
       "53676    0\n",
       "53677    0\n",
       "53678    0\n",
       "53679    0\n",
       "Name: Disputed, Length: 53680, dtype: int64"
      ]
     },
     "execution_count": 19,
     "metadata": {},
     "output_type": "execute_result"
    }
   ],
   "source": [
    "GD_train_Text.Disputed"
   ]
  },
  {
   "cell_type": "code",
   "execution_count": 20,
   "metadata": {},
   "outputs": [
    {
     "data": {
      "text/html": [
       "<div>\n",
       "<style scoped>\n",
       "    .dataframe tbody tr th:only-of-type {\n",
       "        vertical-align: middle;\n",
       "    }\n",
       "\n",
       "    .dataframe tbody tr th {\n",
       "        vertical-align: top;\n",
       "    }\n",
       "\n",
       "    .dataframe thead th {\n",
       "        text-align: right;\n",
       "    }\n",
       "</style>\n",
       "<table border=\"1\" class=\"dataframe\">\n",
       "  <thead>\n",
       "    <tr style=\"text-align: right;\">\n",
       "      <th></th>\n",
       "      <th>GrievanceDescription</th>\n",
       "      <th>Disputed</th>\n",
       "    </tr>\n",
       "  </thead>\n",
       "  <tbody>\n",
       "    <tr>\n",
       "      <th>0</th>\n",
       "      <td>Bank5279 Research dpt. \\nXXXX XXXX XXXX XXXX,...</td>\n",
       "      <td>0</td>\n",
       "    </tr>\n",
       "    <tr>\n",
       "      <th>1</th>\n",
       "      <td>I had a mortgage with from XXXX of XXXX to XX...</td>\n",
       "      <td>1</td>\n",
       "    </tr>\n",
       "    <tr>\n",
       "      <th>2</th>\n",
       "      <td>In XXXX XXXX, I was given a {$1100.00} credit...</td>\n",
       "      <td>1</td>\n",
       "    </tr>\n",
       "    <tr>\n",
       "      <th>3</th>\n",
       "      <td>Our Mortgage was sold to Bank5279 in XXXX of ...</td>\n",
       "      <td>0</td>\n",
       "    </tr>\n",
       "    <tr>\n",
       "      <th>4</th>\n",
       "      <td>We started dealing with Citi Mortgage back in...</td>\n",
       "      <td>0</td>\n",
       "    </tr>\n",
       "  </tbody>\n",
       "</table>\n",
       "</div>"
      ],
      "text/plain": [
       "                                GrievanceDescription  Disputed\n",
       "0   Bank5279 Research dpt. \\nXXXX XXXX XXXX XXXX,...         0\n",
       "1   I had a mortgage with from XXXX of XXXX to XX...         1\n",
       "2   In XXXX XXXX, I was given a {$1100.00} credit...         1\n",
       "3   Our Mortgage was sold to Bank5279 in XXXX of ...         0\n",
       "4   We started dealing with Citi Mortgage back in...         0"
      ]
     },
     "execution_count": 20,
     "metadata": {},
     "output_type": "execute_result"
    }
   ],
   "source": [
    "GD_train_Text.head()\n"
   ]
  },
  {
   "cell_type": "code",
   "execution_count": 42,
   "metadata": {},
   "outputs": [
    {
     "data": {
      "image/png": "[encoded data removed]",
      "text/plain": [
       "<Figure size 432x216 with 1 Axes>"
      ]
     },
     "metadata": {
      "needs_background": "light"
     },
     "output_type": "display_data"
    }
   ],
   "source": [
    "plt.figure()\n",
    "GD_train_Text.Disputed.value_counts().plot(kind='bar',\n",
    "                                  figsize=(6,3),\n",
    "                                  color=\"blue\",\n",
    "                                  alpha = 0.7,\n",
    "                                  fontsize=13)\n",
    "plt.title('Distribution of \"Disputed\" (in numbers)')\n",
    "plt.grid()\n",
    "plt.show()"
   ]
  },
  {
   "cell_type": "markdown",
   "metadata": {},
   "source": [
    "## Extracting first 100 rows for test"
   ]
  },
  {
   "cell_type": "code",
   "execution_count": 43,
   "metadata": {},
   "outputs": [],
   "source": [
    "GD_train_100=GD_train_Text[:1000]"
   ]
  },
  {
   "cell_type": "code",
   "execution_count": 44,
   "metadata": {},
   "outputs": [
    {
     "data": {
      "text/plain": [
       "0    726\n",
       "1    274\n",
       "Name: Disputed, dtype: int64"
      ]
     },
     "execution_count": 44,
     "metadata": {},
     "output_type": "execute_result"
    }
   ],
   "source": [
    "GD_train_100.Disputed.value_counts()"
   ]
  },
  {
   "cell_type": "code",
   "execution_count": null,
   "metadata": {},
   "outputs": [],
   "source": []
  },
  {
   "cell_type": "markdown",
   "metadata": {},
   "source": [
    "## defining function to preprocess description\n",
    "## Going ahead with stopword removal"
   ]
  },
  {
   "cell_type": "code",
   "execution_count": 45,
   "metadata": {},
   "outputs": [],
   "source": [
    "# Extracting words alone\n",
    "def GD_to_words( raw_review ):\n",
    "        \n",
    "    letters_only = re.sub(\"[^a-zA-Z]\", \" \", str(raw_review)) \n",
    "    words = letters_only.lower().split()                             \n",
    "    stops = set(stopwords.words(\"english\"))                   \n",
    "    meaningful_words = [w for w in words if not w in stops]\n",
    "    return( \" \".join(meaningful_words)) "
   ]
  },
  {
   "cell_type": "code",
   "execution_count": 46,
   "metadata": {},
   "outputs": [
    {
     "data": {
      "text/plain": [
       "(1000, 2)"
      ]
     },
     "execution_count": 46,
     "metadata": {},
     "output_type": "execute_result"
    }
   ],
   "source": [
    "GD_train_Text_1 = GD_train_100\n",
    "GD_train_Text_1.shape"
   ]
  },
  {
   "cell_type": "markdown",
   "metadata": {},
   "source": [
    "## Number of Greviences "
   ]
  },
  {
   "cell_type": "code",
   "execution_count": 47,
   "metadata": {},
   "outputs": [
    {
     "name": "stdout",
     "output_type": "stream",
     "text": [
      "1000\n"
     ]
    }
   ],
   "source": [
    "# Get number of reviews\n",
    "Gri_Des = GD_train_Text_1[\"GrievanceDescription\"].size\n",
    "\n",
    "print(Gri_Des)"
   ]
  },
  {
   "cell_type": "markdown",
   "metadata": {},
   "source": [
    "## Fuction with multiple regular expression conditions to remove strings of \"X\""
   ]
  },
  {
   "cell_type": "code",
   "execution_count": 48,
   "metadata": {},
   "outputs": [],
   "source": [
    "def rem_Xword_MulReg( raw_data ):\n",
    "    raw_data_1 = re.sub(r'\\bxxxx\\b\\s+|\\bxxx\\b\\s+|\\bxx\\b\\s+|\\bxxxx|\\bxxx|\\bxx|xxxx\\b|xxx\\b|xx\\b',\"\",raw_data)\n",
    "    return(raw_data_1)"
   ]
  },
  {
   "cell_type": "markdown",
   "metadata": {},
   "source": [
    "## Final function for clean grev, trying with just 100 rows"
   ]
  },
  {
   "cell_type": "markdown",
   "metadata": {},
   "source": [
    "# Function desc - For loop loops through every value in the column\n",
    "Line 1 - extracts only the text values from the string\n",
    "Line 2 - Calls to functionto remove \"X\"values\n",
    "Line 3 - USeing textblob for spell check and converting text blob into a string\n",
    "Line 4 - appending to the list"
   ]
  },
  {
   "cell_type": "code",
   "execution_count": 49,
   "metadata": {},
   "outputs": [
    {
     "name": "stdout",
     "output_type": "stream",
     "text": [
      "mortgage never missed payment financed citizens mortgage obtain loan completely renovate home home built current mortgage house single family ocean view car garage additional parking spot late moved started financing process citizens lower monthly payment close would longer need mi insurance provided citizens every document asked sap signed allow income taxes released paid appraisal home occurred appraisal came significantly market value raised complaints appraisal loan originator citizens bank agreed way value would file complaint loan fine even though appraisal artificially low told would close end close told would close end along available via email told loan going forward set told via email would close monday moved told phone around closing tomorrow received email saying loan denied also said email sore throat cold talk reason stated amount summer job less told safe cancel payment via telephone planned financially child wife working need come additional money told would need citizens payment would lower everything asked told positive things loan words ever heard via email telephone moving forward get email night supposed close happening another week getting financial sources submitted back early told loan officer denied friday bank allowed treat people manner especially people financial future held wings\n"
     ]
    }
   ],
   "source": [
    "# removing x, and spell check No segmentation\n",
    "clean_Grev = []\n",
    "\n",
    "for i in range( 0, Gri_Des ):\n",
    "    str1 = GD_to_words( GD_train_Text_1[\"GrievanceDescription\"][i] )\n",
    "    str2 = rem_Xword_MulReg(str1)\n",
    "    str3 = str(TextBlob(str2).correct())\n",
    "    clean_Grev.append(str3)\n",
    "    \n",
    "print(clean_Grev[1])"
   ]
  },
  {
   "cell_type": "markdown",
   "metadata": {},
   "source": [
    "## TF-IDF Matrix"
   ]
  },
  {
   "cell_type": "code",
   "execution_count": 50,
   "metadata": {},
   "outputs": [
    {
     "name": "stdout",
     "output_type": "stream",
     "text": [
      "  (0, 492)\t0.16197542097290513\n",
      "  (0, 4408)\t0.13874744818898507\n",
      "  (0, 337)\t0.1903363787518005\n",
      "  (0, 709)\t0.10270258614367232\n",
      "  (0, 3392)\t0.1824711305919906\n",
      "  (0, 1279)\t0.07685123217566374\n",
      "  (0, 3074)\t0.10675485397475297\n",
      "  (0, 2089)\t0.11527729335750704\n",
      "  (0, 2524)\t0.06798000261019456\n",
      "  (0, 3441)\t0.07513794642216885\n",
      "  (0, 2269)\t0.18229596491648262\n",
      "  (0, 2674)\t0.11657747926809309\n",
      "  (0, 1168)\t0.12790980608702604\n",
      "  (0, 4982)\t0.17086452329045682\n",
      "  (0, 2404)\t0.14535426795172887\n",
      "  (0, 910)\t0.10853706543277522\n",
      "  (0, 4781)\t0.10853706543277522\n",
      "  (0, 1888)\t0.13107722462484106\n",
      "  (0, 3661)\t0.06335602883300576\n",
      "  (0, 4195)\t0.055390046351585634\n",
      "  (0, 842)\t0.08587241179490926\n",
      "  (0, 243)\t0.07093771561076688\n",
      "  (0, 1302)\t0.11794111346216017\n",
      "  (0, 1839)\t0.4060523572634565\n",
      "  (0, 2570)\t0.08214034866161328\n",
      "  :\t:\n",
      "  (999, 1611)\t0.06238583274564635\n",
      "  (999, 2868)\t0.05745780285257176\n",
      "  (999, 4647)\t0.06465753073200402\n",
      "  (999, 43)\t0.04961101161730389\n",
      "  (999, 4782)\t0.061400818120355284\n",
      "  (999, 2983)\t0.06346479419062578\n",
      "  (999, 2982)\t0.39339069048464964\n",
      "  (999, 657)\t0.06750254245309031\n",
      "  (999, 414)\t0.06750254245309031\n",
      "  (999, 1323)\t0.06924760935562317\n",
      "  (999, 2074)\t0.061400818120355284\n",
      "  (999, 4445)\t0.06924760935562317\n",
      "  (999, 707)\t0.12098938500566282\n",
      "  (999, 4471)\t0.06346479419062578\n",
      "  (999, 5353)\t0.07383768797924231\n",
      "  (999, 3269)\t0.05814410550870656\n",
      "  (999, 4551)\t0.07131158542589366\n",
      "  (999, 5381)\t0.5168638158546961\n",
      "  (999, 887)\t0.06465753073200402\n",
      "  (999, 4635)\t0.06465753073200402\n",
      "  (999, 4775)\t0.07131158542589366\n",
      "  (999, 5345)\t0.07709440059089104\n",
      "  (999, 3263)\t0.07131158542589366\n",
      "  (999, 4516)\t0.15418880118178208\n",
      "  (999, 4541)\t0.08168447921451018\n"
     ]
    }
   ],
   "source": [
    "from sklearn.feature_extraction.text import TfidfVectorizer\n",
    "\n",
    "sklearn_tfidf = TfidfVectorizer(norm='l2',min_df=0, smooth_idf=True, tokenizer=None)\n",
    "\n",
    "sklearn_representation = sklearn_tfidf.fit_transform(clean_Grev)\n",
    "print(sklearn_representation)"
   ]
  },
  {
   "cell_type": "code",
   "execution_count": 51,
   "metadata": {},
   "outputs": [
    {
     "name": "stdout",
     "output_type": "stream",
     "text": [
      "[[0. 0. 0. ... 0. 0. 0.]\n",
      " [0. 0. 0. ... 0. 0. 0.]\n",
      " [0. 0. 0. ... 0. 0. 0.]\n",
      " ...\n",
      " [0. 0. 0. ... 0. 0. 0.]\n",
      " [0. 0. 0. ... 0. 0. 0.]\n",
      " [0. 0. 0. ... 0. 0. 0.]]\n"
     ]
    }
   ],
   "source": [
    "# Numpy arrays are easy to work with, so convert the result to an array\n",
    "data_features = sklearn_representation.toarray()\n",
    "print(data_features)"
   ]
  },
  {
   "cell_type": "code",
   "execution_count": 52,
   "metadata": {},
   "outputs": [
    {
     "name": "stdout",
     "output_type": "stream",
     "text": [
      "     0     1     2     3     4     5         6     7        8         9     \\\n",
      "0     0.0   0.0   0.0   0.0   0.0   0.0  0.000000   0.0  0.00000  0.000000   \n",
      "1     0.0   0.0   0.0   0.0   0.0   0.0  0.000000   0.0  0.00000  0.000000   \n",
      "2     0.0   0.0   0.0   0.0   0.0   0.0  0.000000   0.0  0.00000  0.041036   \n",
      "3     0.0   0.0   0.0   0.0   0.0   0.0  0.000000   0.0  0.00000  0.000000   \n",
      "4     0.0   0.0   0.0   0.0   0.0   0.0  0.000000   0.0  0.00000  0.000000   \n",
      "5     0.0   0.0   0.0   0.0   0.0   0.0  0.000000   0.0  0.00000  0.000000   \n",
      "6     0.0   0.0   0.0   0.0   0.0   0.0  0.093186   0.0  0.00000  0.041405   \n",
      "7     0.0   0.0   0.0   0.0   0.0   0.0  0.000000   0.0  0.00000  0.000000   \n",
      "8     0.0   0.0   0.0   0.0   0.0   0.0  0.000000   0.0  0.00000  0.000000   \n",
      "9     0.0   0.0   0.0   0.0   0.0   0.0  0.000000   0.0  0.00000  0.000000   \n",
      "10    0.0   0.0   0.0   0.0   0.0   0.0  0.000000   0.0  0.00000  0.000000   \n",
      "11    0.0   0.0   0.0   0.0   0.0   0.0  0.000000   0.0  0.00000  0.050413   \n",
      "12    0.0   0.0   0.0   0.0   0.0   0.0  0.000000   0.0  0.00000  0.000000   \n",
      "13    0.0   0.0   0.0   0.0   0.0   0.0  0.000000   0.0  0.00000  0.000000   \n",
      "14    0.0   0.0   0.0   0.0   0.0   0.0  0.000000   0.0  0.00000  0.000000   \n",
      "15    0.0   0.0   0.0   0.0   0.0   0.0  0.000000   0.0  0.00000  0.000000   \n",
      "16    0.0   0.0   0.0   0.0   0.0   0.0  0.000000   0.0  0.00000  0.000000   \n",
      "17    0.0   0.0   0.0   0.0   0.0   0.0  0.000000   0.0  0.00000  0.000000   \n",
      "18    0.0   0.0   0.0   0.0   0.0   0.0  0.000000   0.0  0.00000  0.000000   \n",
      "19    0.0   0.0   0.0   0.0   0.0   0.0  0.000000   0.0  0.00000  0.000000   \n",
      "20    0.0   0.0   0.0   0.0   0.0   0.0  0.000000   0.0  0.00000  0.000000   \n",
      "21    0.0   0.0   0.0   0.0   0.0   0.0  0.000000   0.0  0.00000  0.000000   \n",
      "22    0.0   0.0   0.0   0.0   0.0   0.0  0.000000   0.0  0.00000  0.000000   \n",
      "23    0.0   0.0   0.0   0.0   0.0   0.0  0.000000   0.0  0.00000  0.000000   \n",
      "24    0.0   0.0   0.0   0.0   0.0   0.0  0.000000   0.0  0.00000  0.071358   \n",
      "25    0.0   0.0   0.0   0.0   0.0   0.0  0.000000   0.0  0.00000  0.000000   \n",
      "26    0.0   0.0   0.0   0.0   0.0   0.0  0.000000   0.0  0.00000  0.000000   \n",
      "27    0.0   0.0   0.0   0.0   0.0   0.0  0.000000   0.0  0.00000  0.000000   \n",
      "28    0.0   0.0   0.0   0.0   0.0   0.0  0.000000   0.0  0.00000  0.000000   \n",
      "29    0.0   0.0   0.0   0.0   0.0   0.0  0.000000   0.0  0.00000  0.000000   \n",
      "..    ...   ...   ...   ...   ...   ...       ...   ...      ...       ...   \n",
      "970   0.0   0.0   0.0   0.0   0.0   0.0  0.000000   0.0  0.00000  0.000000   \n",
      "971   0.0   0.0   0.0   0.0   0.0   0.0  0.000000   0.0  0.00000  0.000000   \n",
      "972   0.0   0.0   0.0   0.0   0.0   0.0  0.000000   0.0  0.00000  0.000000   \n",
      "973   0.0   0.0   0.0   0.0   0.0   0.0  0.000000   0.0  0.00000  0.000000   \n",
      "974   0.0   0.0   0.0   0.0   0.0   0.0  0.000000   0.0  0.00000  0.000000   \n",
      "975   0.0   0.0   0.0   0.0   0.0   0.0  0.000000   0.0  0.00000  0.000000   \n",
      "976   0.0   0.0   0.0   0.0   0.0   0.0  0.000000   0.0  0.00000  0.205652   \n",
      "977   0.0   0.0   0.0   0.0   0.0   0.0  0.000000   0.0  0.00000  0.000000   \n",
      "978   0.0   0.0   0.0   0.0   0.0   0.0  0.000000   0.0  0.00000  0.000000   \n",
      "979   0.0   0.0   0.0   0.0   0.0   0.0  0.000000   0.0  0.00000  0.000000   \n",
      "980   0.0   0.0   0.0   0.0   0.0   0.0  0.000000   0.0  0.00000  0.000000   \n",
      "981   0.0   0.0   0.0   0.0   0.0   0.0  0.000000   0.0  0.00000  0.000000   \n",
      "982   0.0   0.0   0.0   0.0   0.0   0.0  0.000000   0.0  0.03951  0.000000   \n",
      "983   0.0   0.0   0.0   0.0   0.0   0.0  0.000000   0.0  0.00000  0.000000   \n",
      "984   0.0   0.0   0.0   0.0   0.0   0.0  0.000000   0.0  0.00000  0.026691   \n",
      "985   0.0   0.0   0.0   0.0   0.0   0.0  0.000000   0.0  0.00000  0.000000   \n",
      "986   0.0   0.0   0.0   0.0   0.0   0.0  0.000000   0.0  0.00000  0.000000   \n",
      "987   0.0   0.0   0.0   0.0   0.0   0.0  0.000000   0.0  0.00000  0.000000   \n",
      "988   0.0   0.0   0.0   0.0   0.0   0.0  0.000000   0.0  0.00000  0.000000   \n",
      "989   0.0   0.0   0.0   0.0   0.0   0.0  0.000000   0.0  0.00000  0.000000   \n",
      "990   0.0   0.0   0.0   0.0   0.0   0.0  0.000000   0.0  0.00000  0.000000   \n",
      "991   0.0   0.0   0.0   0.0   0.0   0.0  0.000000   0.0  0.00000  0.000000   \n",
      "992   0.0   0.0   0.0   0.0   0.0   0.0  0.000000   0.0  0.00000  0.000000   \n",
      "993   0.0   0.0   0.0   0.0   0.0   0.0  0.000000   0.0  0.00000  0.000000   \n",
      "994   0.0   0.0   0.0   0.0   0.0   0.0  0.000000   0.0  0.00000  0.000000   \n",
      "995   0.0   0.0   0.0   0.0   0.0   0.0  0.000000   0.0  0.00000  0.000000   \n",
      "996   0.0   0.0   0.0   0.0   0.0   0.0  0.000000   0.0  0.00000  0.000000   \n",
      "997   0.0   0.0   0.0   0.0   0.0   0.0  0.000000   0.0  0.00000  0.000000   \n",
      "998   0.0   0.0   0.0   0.0   0.0   0.0  0.000000   0.0  0.00000  0.000000   \n",
      "999   0.0   0.0   0.0   0.0   0.0   0.0  0.000000   0.0  0.00000  0.000000   \n",
      "\n",
      "     ...       5906      5907  5908      5909  5910  5911      5912  5913  \\\n",
      "0    ...   0.000000  0.000000   0.0  0.000000   0.0   0.0  0.000000   0.0   \n",
      "1    ...   0.000000  0.000000   0.0  0.000000   0.0   0.0  0.000000   0.0   \n",
      "2    ...   0.000000  0.060683   0.0  0.044400   0.0   0.0  0.000000   0.0   \n",
      "3    ...   0.000000  0.000000   0.0  0.000000   0.0   0.0  0.000000   0.0   \n",
      "4    ...   0.000000  0.000000   0.0  0.039909   0.0   0.0  0.000000   0.0   \n",
      "5    ...   0.000000  0.000000   0.0  0.000000   0.0   0.0  0.000000   0.0   \n",
      "6    ...   0.000000  0.000000   0.0  0.000000   0.0   0.0  0.000000   0.0   \n",
      "7    ...   0.000000  0.000000   0.0  0.000000   0.0   0.0  0.000000   0.0   \n",
      "8    ...   0.000000  0.000000   0.0  0.000000   0.0   0.0  0.000000   0.0   \n",
      "9    ...   0.000000  0.043884   0.0  0.000000   0.0   0.0  0.000000   0.0   \n",
      "10   ...   0.000000  0.000000   0.0  0.000000   0.0   0.0  0.000000   0.0   \n",
      "11   ...   0.000000  0.000000   0.0  0.000000   0.0   0.0  0.000000   0.0   \n",
      "12   ...   0.000000  0.000000   0.0  0.096445   0.0   0.0  0.000000   0.0   \n",
      "13   ...   0.000000  0.000000   0.0  0.000000   0.0   0.0  0.000000   0.0   \n",
      "14   ...   0.000000  0.000000   0.0  0.000000   0.0   0.0  0.000000   0.0   \n",
      "15   ...   0.000000  0.000000   0.0  0.061881   0.0   0.0  0.000000   0.0   \n",
      "16   ...   0.000000  0.000000   0.0  0.000000   0.0   0.0  0.000000   0.0   \n",
      "17   ...   0.000000  0.000000   0.0  0.000000   0.0   0.0  0.000000   0.0   \n",
      "18   ...   0.000000  0.000000   0.0  0.067513   0.0   0.0  0.000000   0.0   \n",
      "19   ...   0.000000  0.000000   0.0  0.000000   0.0   0.0  0.000000   0.0   \n",
      "20   ...   0.000000  0.000000   0.0  0.000000   0.0   0.0  0.070909   0.0   \n",
      "21   ...   0.000000  0.000000   0.0  0.042530   0.0   0.0  0.000000   0.0   \n",
      "22   ...   0.000000  0.000000   0.0  0.000000   0.0   0.0  0.000000   0.0   \n",
      "23   ...   0.000000  0.000000   0.0  0.000000   0.0   0.0  0.000000   0.0   \n",
      "24   ...   0.000000  0.000000   0.0  0.000000   0.0   0.0  0.000000   0.0   \n",
      "25   ...   0.000000  0.090525   0.0  0.000000   0.0   0.0  0.000000   0.0   \n",
      "26   ...   0.000000  0.000000   0.0  0.045757   0.0   0.0  0.000000   0.0   \n",
      "27   ...   0.269207  0.000000   0.0  0.000000   0.0   0.0  0.000000   0.0   \n",
      "28   ...   0.000000  0.000000   0.0  0.000000   0.0   0.0  0.000000   0.0   \n",
      "29   ...   0.000000  0.000000   0.0  0.000000   0.0   0.0  0.000000   0.0   \n",
      "..   ...        ...       ...   ...       ...   ...   ...       ...   ...   \n",
      "970  ...   0.000000  0.000000   0.0  0.000000   0.0   0.0  0.000000   0.0   \n",
      "971  ...   0.000000  0.000000   0.0  0.000000   0.0   0.0  0.000000   0.0   \n",
      "972  ...   0.000000  0.000000   0.0  0.000000   0.0   0.0  0.000000   0.0   \n",
      "973  ...   0.000000  0.000000   0.0  0.000000   0.0   0.0  0.000000   0.0   \n",
      "974  ...   0.000000  0.000000   0.0  0.000000   0.0   0.0  0.000000   0.0   \n",
      "975  ...   0.000000  0.000000   0.0  0.000000   0.0   0.0  0.000000   0.0   \n",
      "976  ...   0.000000  0.000000   0.0  0.000000   0.0   0.0  0.000000   0.0   \n",
      "977  ...   0.000000  0.000000   0.0  0.000000   0.0   0.0  0.000000   0.0   \n",
      "978  ...   0.000000  0.000000   0.0  0.000000   0.0   0.0  0.000000   0.0   \n",
      "979  ...   0.000000  0.000000   0.0  0.000000   0.0   0.0  0.000000   0.0   \n",
      "980  ...   0.000000  0.000000   0.0  0.000000   0.0   0.0  0.000000   0.0   \n",
      "981  ...   0.000000  0.000000   0.0  0.000000   0.0   0.0  0.000000   0.0   \n",
      "982  ...   0.000000  0.000000   0.0  0.000000   0.0   0.0  0.000000   0.0   \n",
      "983  ...   0.000000  0.000000   0.0  0.000000   0.0   0.0  0.000000   0.0   \n",
      "984  ...   0.000000  0.000000   0.0  0.000000   0.0   0.0  0.000000   0.0   \n",
      "985  ...   0.000000  0.000000   0.0  0.000000   0.0   0.0  0.000000   0.0   \n",
      "986  ...   0.000000  0.000000   0.0  0.000000   0.0   0.0  0.000000   0.0   \n",
      "987  ...   0.000000  0.000000   0.0  0.000000   0.0   0.0  0.000000   0.0   \n",
      "988  ...   0.000000  0.000000   0.0  0.000000   0.0   0.0  0.000000   0.0   \n",
      "989  ...   0.000000  0.000000   0.0  0.000000   0.0   0.0  0.000000   0.0   \n",
      "990  ...   0.000000  0.000000   0.0  0.169752   0.0   0.0  0.000000   0.0   \n",
      "991  ...   0.000000  0.000000   0.0  0.000000   0.0   0.0  0.000000   0.0   \n",
      "992  ...   0.000000  0.000000   0.0  0.000000   0.0   0.0  0.000000   0.0   \n",
      "993  ...   0.000000  0.000000   0.0  0.000000   0.0   0.0  0.000000   0.0   \n",
      "994  ...   0.000000  0.080028   0.0  0.000000   0.0   0.0  0.000000   0.0   \n",
      "995  ...   0.000000  0.000000   0.0  0.040993   0.0   0.0  0.000000   0.0   \n",
      "996  ...   0.000000  0.000000   0.0  0.000000   0.0   0.0  0.000000   0.0   \n",
      "997  ...   0.000000  0.000000   0.0  0.000000   0.0   0.0  0.000000   0.0   \n",
      "998  ...   0.000000  0.000000   0.0  0.000000   0.0   0.0  0.000000   0.0   \n",
      "999  ...   0.000000  0.000000   0.0  0.000000   0.0   0.0  0.000000   0.0   \n",
      "\n",
      "     5914  5915  \n",
      "0     0.0   0.0  \n",
      "1     0.0   0.0  \n",
      "2     0.0   0.0  \n",
      "3     0.0   0.0  \n",
      "4     0.0   0.0  \n",
      "5     0.0   0.0  \n",
      "6     0.0   0.0  \n",
      "7     0.0   0.0  \n",
      "8     0.0   0.0  \n",
      "9     0.0   0.0  \n",
      "10    0.0   0.0  \n",
      "11    0.0   0.0  \n",
      "12    0.0   0.0  \n",
      "13    0.0   0.0  \n",
      "14    0.0   0.0  \n",
      "15    0.0   0.0  \n",
      "16    0.0   0.0  \n",
      "17    0.0   0.0  \n",
      "18    0.0   0.0  \n",
      "19    0.0   0.0  \n",
      "20    0.0   0.0  \n",
      "21    0.0   0.0  \n",
      "22    0.0   0.0  \n",
      "23    0.0   0.0  \n",
      "24    0.0   0.0  \n",
      "25    0.0   0.0  \n",
      "26    0.0   0.0  \n",
      "27    0.0   0.0  \n",
      "28    0.0   0.0  \n",
      "29    0.0   0.0  \n",
      "..    ...   ...  \n",
      "970   0.0   0.0  \n",
      "971   0.0   0.0  \n",
      "972   0.0   0.0  \n",
      "973   0.0   0.0  \n",
      "974   0.0   0.0  \n",
      "975   0.0   0.0  \n",
      "976   0.0   0.0  \n",
      "977   0.0   0.0  \n",
      "978   0.0   0.0  \n",
      "979   0.0   0.0  \n",
      "980   0.0   0.0  \n",
      "981   0.0   0.0  \n",
      "982   0.0   0.0  \n",
      "983   0.0   0.0  \n",
      "984   0.0   0.0  \n",
      "985   0.0   0.0  \n",
      "986   0.0   0.0  \n",
      "987   0.0   0.0  \n",
      "988   0.0   0.0  \n",
      "989   0.0   0.0  \n",
      "990   0.0   0.0  \n",
      "991   0.0   0.0  \n",
      "992   0.0   0.0  \n",
      "993   0.0   0.0  \n",
      "994   0.0   0.0  \n",
      "995   0.0   0.0  \n",
      "996   0.0   0.0  \n",
      "997   0.0   0.0  \n",
      "998   0.0   0.0  \n",
      "999   0.0   0.0  \n",
      "\n",
      "[1000 rows x 5916 columns]\n",
      "[   0    1    2 ... 5913 5914 5915]\n"
     ]
    }
   ],
   "source": [
    "data_features=pd.DataFrame(data_features)\n",
    "print(data_features)\n",
    "print(data_features.columns.values)"
   ]
  },
  {
   "cell_type": "code",
   "execution_count": 53,
   "metadata": {},
   "outputs": [],
   "source": [
    "data_features[\"Disputed\"]=GD_train_Text_1[\"Disputed\"]"
   ]
  },
  {
   "cell_type": "code",
   "execution_count": 54,
   "metadata": {},
   "outputs": [
    {
     "name": "stdout",
     "output_type": "stream",
     "text": [
      "       0         1    2    3    4    5    6    7    8         9    ...     \\\n",
      "232  0.0  0.000000  0.0  0.0  0.0  0.0  0.0  0.0  0.0  0.043496    ...      \n",
      "48   0.0  0.000000  0.0  0.0  0.0  0.0  0.0  0.0  0.0  0.000000    ...      \n",
      "728  0.0  0.000000  0.0  0.0  0.0  0.0  0.0  0.0  0.0  0.000000    ...      \n",
      "389  0.0  0.000000  0.0  0.0  0.0  0.0  0.0  0.0  0.0  0.000000    ...      \n",
      "441  0.0  0.000000  0.0  0.0  0.0  0.0  0.0  0.0  0.0  0.000000    ...      \n",
      "285  0.0  0.000000  0.0  0.0  0.0  0.0  0.0  0.0  0.0  0.000000    ...      \n",
      "416  0.0  0.000000  0.0  0.0  0.0  0.0  0.0  0.0  0.0  0.000000    ...      \n",
      "725  0.0  0.000000  0.0  0.0  0.0  0.0  0.0  0.0  0.0  0.000000    ...      \n",
      "378  0.0  0.000000  0.0  0.0  0.0  0.0  0.0  0.0  0.0  0.000000    ...      \n",
      "413  0.0  0.123666  0.0  0.0  0.0  0.0  0.0  0.0  0.0  0.000000    ...      \n",
      "46   0.0  0.000000  0.0  0.0  0.0  0.0  0.0  0.0  0.0  0.050413    ...      \n",
      "337  0.0  0.000000  0.0  0.0  0.0  0.0  0.0  0.0  0.0  0.000000    ...      \n",
      "99   0.0  0.000000  0.0  0.0  0.0  0.0  0.0  0.0  0.0  0.000000    ...      \n",
      "976  0.0  0.000000  0.0  0.0  0.0  0.0  0.0  0.0  0.0  0.205652    ...      \n",
      "717  0.0  0.000000  0.0  0.0  0.0  0.0  0.0  0.0  0.0  0.000000    ...      \n",
      "617  0.0  0.000000  0.0  0.0  0.0  0.0  0.0  0.0  0.0  0.000000    ...      \n",
      "831  0.0  0.000000  0.0  0.0  0.0  0.0  0.0  0.0  0.0  0.000000    ...      \n",
      "49   0.0  0.000000  0.0  0.0  0.0  0.0  0.0  0.0  0.0  0.000000    ...      \n",
      "615  0.0  0.000000  0.0  0.0  0.0  0.0  0.0  0.0  0.0  0.000000    ...      \n",
      "32   0.0  0.000000  0.0  0.0  0.0  0.0  0.0  0.0  0.0  0.089519    ...      \n",
      "616  0.0  0.000000  0.0  0.0  0.0  0.0  0.0  0.0  0.0  0.000000    ...      \n",
      "134  0.0  0.000000  0.0  0.0  0.0  0.0  0.0  0.0  0.0  0.000000    ...      \n",
      "100  0.0  0.000000  0.0  0.0  0.0  0.0  0.0  0.0  0.0  0.000000    ...      \n",
      "439  0.0  0.000000  0.0  0.0  0.0  0.0  0.0  0.0  0.0  0.000000    ...      \n",
      "167  0.0  0.000000  0.0  0.0  0.0  0.0  0.0  0.0  0.0  0.000000    ...      \n",
      "764  0.0  0.000000  0.0  0.0  0.0  0.0  0.0  0.0  0.0  0.000000    ...      \n",
      "256  0.0  0.000000  0.0  0.0  0.0  0.0  0.0  0.0  0.0  0.000000    ...      \n",
      "936  0.0  0.000000  0.0  0.0  0.0  0.0  0.0  0.0  0.0  0.079766    ...      \n",
      "297  0.0  0.000000  0.0  0.0  0.0  0.0  0.0  0.0  0.0  0.000000    ...      \n",
      "731  0.0  0.000000  0.0  0.0  0.0  0.0  0.0  0.0  0.0  0.042719    ...      \n",
      "..   ...       ...  ...  ...  ...  ...  ...  ...  ...       ...    ...      \n",
      "805  0.0  0.000000  0.0  0.0  0.0  0.0  0.0  0.0  0.0  0.000000    ...      \n",
      "411  0.0  0.000000  0.0  0.0  0.0  0.0  0.0  0.0  0.0  0.000000    ...      \n",
      "37   0.0  0.000000  0.0  0.0  0.0  0.0  0.0  0.0  0.0  0.058932    ...      \n",
      "893  0.0  0.000000  0.0  0.0  0.0  0.0  0.0  0.0  0.0  0.000000    ...      \n",
      "503  0.0  0.000000  0.0  0.0  0.0  0.0  0.0  0.0  0.0  0.000000    ...      \n",
      "807  0.0  0.000000  0.0  0.0  0.0  0.0  0.0  0.0  0.0  0.000000    ...      \n",
      "851  0.0  0.000000  0.0  0.0  0.0  0.0  0.0  0.0  0.0  0.000000    ...      \n",
      "246  0.0  0.000000  0.0  0.0  0.0  0.0  0.0  0.0  0.0  0.000000    ...      \n",
      "465  0.0  0.000000  0.0  0.0  0.0  0.0  0.0  0.0  0.0  0.000000    ...      \n",
      "870  0.0  0.072610  0.0  0.0  0.0  0.0  0.0  0.0  0.0  0.000000    ...      \n",
      "355  0.0  0.000000  0.0  0.0  0.0  0.0  0.0  0.0  0.0  0.033828    ...      \n",
      "975  0.0  0.000000  0.0  0.0  0.0  0.0  0.0  0.0  0.0  0.000000    ...      \n",
      "91   0.0  0.000000  0.0  0.0  0.0  0.0  0.0  0.0  0.0  0.000000    ...      \n",
      "406  0.0  0.000000  0.0  0.0  0.0  0.0  0.0  0.0  0.0  0.000000    ...      \n",
      "219  0.0  0.000000  0.0  0.0  0.0  0.0  0.0  0.0  0.0  0.000000    ...      \n",
      "124  0.0  0.000000  0.0  0.0  0.0  0.0  0.0  0.0  0.0  0.000000    ...      \n",
      "231  0.0  0.000000  0.0  0.0  0.0  0.0  0.0  0.0  0.0  0.000000    ...      \n",
      "863  0.0  0.000000  0.0  0.0  0.0  0.0  0.0  0.0  0.0  0.000000    ...      \n",
      "53   0.0  0.000000  0.0  0.0  0.0  0.0  0.0  0.0  0.0  0.000000    ...      \n",
      "804  0.0  0.000000  0.0  0.0  0.0  0.0  0.0  0.0  0.0  0.000000    ...      \n",
      "563  0.0  0.000000  0.0  0.0  0.0  0.0  0.0  0.0  0.0  0.000000    ...      \n",
      "421  0.0  0.000000  0.0  0.0  0.0  0.0  0.0  0.0  0.0  0.000000    ...      \n",
      "953  0.0  0.000000  0.0  0.0  0.0  0.0  0.0  0.0  0.0  0.000000    ...      \n",
      "376  0.0  0.000000  0.0  0.0  0.0  0.0  0.0  0.0  0.0  0.000000    ...      \n",
      "105  0.0  0.000000  0.0  0.0  0.0  0.0  0.0  0.0  0.0  0.085252    ...      \n",
      "255  0.0  0.000000  0.0  0.0  0.0  0.0  0.0  0.0  0.0  0.000000    ...      \n",
      "747  0.0  0.000000  0.0  0.0  0.0  0.0  0.0  0.0  0.0  0.000000    ...      \n",
      "593  0.0  0.000000  0.0  0.0  0.0  0.0  0.0  0.0  0.0  0.000000    ...      \n",
      "387  0.0  0.000000  0.0  0.0  0.0  0.0  0.0  0.0  0.0  0.049594    ...      \n",
      "569  0.0  0.000000  0.0  0.0  0.0  0.0  0.0  0.0  0.0  0.000000    ...      \n",
      "\n",
      "     5907  5908      5909  5910      5911  5912  5913  5914  5915  Disputed  \n",
      "232   0.0   0.0  0.000000   0.0  0.000000   0.0   0.0   0.0   0.0         0  \n",
      "48    0.0   0.0  0.042530   0.0  0.000000   0.0   0.0   0.0   0.0         1  \n",
      "728   0.0   0.0  0.000000   0.0  0.000000   0.0   0.0   0.0   0.0         0  \n",
      "389   0.0   0.0  0.000000   0.0  0.000000   0.0   0.0   0.0   0.0         1  \n",
      "441   0.0   0.0  0.000000   0.0  0.000000   0.0   0.0   0.0   0.0         0  \n",
      "285   0.0   0.0  0.000000   0.0  0.000000   0.0   0.0   0.0   0.0         0  \n",
      "416   0.0   0.0  0.000000   0.0  0.000000   0.0   0.0   0.0   0.0         0  \n",
      "725   0.0   0.0  0.000000   0.0  0.000000   0.0   0.0   0.0   0.0         0  \n",
      "378   0.0   0.0  0.000000   0.0  0.000000   0.0   0.0   0.0   0.0         0  \n",
      "413   0.0   0.0  0.000000   0.0  0.114439   0.0   0.0   0.0   0.0         0  \n",
      "46    0.0   0.0  0.000000   0.0  0.000000   0.0   0.0   0.0   0.0         0  \n",
      "337   0.0   0.0  0.000000   0.0  0.000000   0.0   0.0   0.0   0.0         0  \n",
      "99    0.0   0.0  0.000000   0.0  0.000000   0.0   0.0   0.0   0.0         0  \n",
      "976   0.0   0.0  0.000000   0.0  0.000000   0.0   0.0   0.0   0.0         0  \n",
      "717   0.0   0.0  0.000000   0.0  0.000000   0.0   0.0   0.0   0.0         1  \n",
      "617   0.0   0.0  0.000000   0.0  0.000000   0.0   0.0   0.0   0.0         0  \n",
      "831   0.0   0.0  0.000000   0.0  0.000000   0.0   0.0   0.0   0.0         1  \n",
      "49    0.0   0.0  0.000000   0.0  0.000000   0.0   0.0   0.0   0.0         0  \n",
      "615   0.0   0.0  0.000000   0.0  0.000000   0.0   0.0   0.0   0.0         0  \n",
      "32    0.0   0.0  0.000000   0.0  0.000000   0.0   0.0   0.0   0.0         0  \n",
      "616   0.0   0.0  0.000000   0.0  0.000000   0.0   0.0   0.0   0.0         0  \n",
      "134   0.0   0.0  0.000000   0.0  0.000000   0.0   0.0   0.0   0.0         0  \n",
      "100   0.0   0.0  0.000000   0.0  0.000000   0.0   0.0   0.0   0.0         0  \n",
      "439   0.0   0.0  0.000000   0.0  0.000000   0.0   0.0   0.0   0.0         0  \n",
      "167   0.0   0.0  0.000000   0.0  0.000000   0.0   0.0   0.0   0.0         0  \n",
      "764   0.0   0.0  0.000000   0.0  0.000000   0.0   0.0   0.0   0.0         0  \n",
      "256   0.0   0.0  0.000000   0.0  0.000000   0.0   0.0   0.0   0.0         0  \n",
      "936   0.0   0.0  0.000000   0.0  0.000000   0.0   0.0   0.0   0.0         0  \n",
      "297   0.0   0.0  0.000000   0.0  0.000000   0.0   0.0   0.0   0.0         1  \n",
      "731   0.0   0.0  0.000000   0.0  0.000000   0.0   0.0   0.0   0.0         0  \n",
      "..    ...   ...       ...   ...       ...   ...   ...   ...   ...       ...  \n",
      "805   0.0   0.0  0.000000   0.0  0.000000   0.0   0.0   0.0   0.0         0  \n",
      "411   0.0   0.0  0.000000   0.0  0.000000   0.0   0.0   0.0   0.0         0  \n",
      "37    0.0   0.0  0.000000   0.0  0.000000   0.0   0.0   0.0   0.0         1  \n",
      "893   0.0   0.0  0.000000   0.0  0.000000   0.0   0.0   0.0   0.0         0  \n",
      "503   0.0   0.0  0.000000   0.0  0.000000   0.0   0.0   0.0   0.0         0  \n",
      "807   0.0   0.0  0.000000   0.0  0.000000   0.0   0.0   0.0   0.0         1  \n",
      "851   0.0   0.0  0.000000   0.0  0.000000   0.0   0.0   0.0   0.0         1  \n",
      "246   0.0   0.0  0.000000   0.0  0.000000   0.0   0.0   0.0   0.0         0  \n",
      "465   0.0   0.0  0.083876   0.0  0.000000   0.0   0.0   0.0   0.0         0  \n",
      "870   0.0   0.0  0.000000   0.0  0.000000   0.0   0.0   0.0   0.0         0  \n",
      "355   0.0   0.0  0.036601   0.0  0.000000   0.0   0.0   0.0   0.0         0  \n",
      "975   0.0   0.0  0.000000   0.0  0.000000   0.0   0.0   0.0   0.0         0  \n",
      "91    0.0   0.0  0.000000   0.0  0.000000   0.0   0.0   0.0   0.0         1  \n",
      "406   0.0   0.0  0.000000   0.0  0.000000   0.0   0.0   0.0   0.0         0  \n",
      "219   0.0   0.0  0.000000   0.0  0.000000   0.0   0.0   0.0   0.0         0  \n",
      "124   0.0   0.0  0.034513   0.0  0.000000   0.0   0.0   0.0   0.0         1  \n",
      "231   0.0   0.0  0.000000   0.0  0.000000   0.0   0.0   0.0   0.0         0  \n",
      "863   0.0   0.0  0.000000   0.0  0.000000   0.0   0.0   0.0   0.0         1  \n",
      "53    0.0   0.0  0.034212   0.0  0.000000   0.0   0.0   0.0   0.0         1  \n",
      "804   0.0   0.0  0.043522   0.0  0.000000   0.0   0.0   0.0   0.0         0  \n",
      "563   0.0   0.0  0.000000   0.0  0.000000   0.0   0.0   0.0   0.0         0  \n",
      "421   0.0   0.0  0.000000   0.0  0.000000   0.0   0.0   0.0   0.0         1  \n",
      "953   0.0   0.0  0.000000   0.0  0.000000   0.0   0.0   0.0   0.0         0  \n",
      "376   0.0   0.0  0.000000   0.0  0.000000   0.0   0.0   0.0   0.0         1  \n",
      "105   0.0   0.0  0.000000   0.0  0.000000   0.0   0.0   0.0   0.0         0  \n",
      "255   0.0   0.0  0.000000   0.0  0.000000   0.0   0.0   0.0   0.0         0  \n",
      "747   0.0   0.0  0.000000   0.0  0.000000   0.0   0.0   0.0   0.0         0  \n",
      "593   0.0   0.0  0.000000   0.0  0.000000   0.0   0.0   0.0   0.0         0  \n",
      "387   0.0   0.0  0.000000   0.0  0.000000   0.0   0.0   0.0   0.0         0  \n",
      "569   0.0   0.0  0.000000   0.0  0.000000   0.0   0.0   0.0   0.0         0  \n",
      "\n",
      "[1000 rows x 5917 columns]\n"
     ]
    }
   ],
   "source": [
    "data_features = data_features.sample(frac=1)\n",
    "print(data_features)"
   ]
  },
  {
   "cell_type": "code",
   "execution_count": 55,
   "metadata": {},
   "outputs": [
    {
     "name": "stderr",
     "output_type": "stream",
     "text": [
      "C:\\Users\\Sowmya\\Anaconda3\\lib\\site-packages\\ipykernel_launcher.py:7: UserWarning:\n",
      "\n",
      "Pandas doesn't allow columns to be created via a new attribute name - see https://pandas.pydata.org/pandas-docs/stable/indexing.html#attribute-access\n",
      "\n",
      "C:\\Users\\Sowmya\\Anaconda3\\lib\\site-packages\\ipykernel_launcher.py:8: UserWarning:\n",
      "\n",
      "Pandas doesn't allow columns to be created via a new attribute name - see https://pandas.pydata.org/pandas-docs/stable/indexing.html#attribute-access\n",
      "\n",
      "C:\\Users\\Sowmya\\Anaconda3\\lib\\site-packages\\ipykernel_launcher.py:10: UserWarning:\n",
      "\n",
      "Pandas doesn't allow columns to be created via a new attribute name - see https://pandas.pydata.org/pandas-docs/stable/indexing.html#attribute-access\n",
      "\n",
      "C:\\Users\\Sowmya\\Anaconda3\\lib\\site-packages\\ipykernel_launcher.py:11: UserWarning:\n",
      "\n",
      "Pandas doesn't allow columns to be created via a new attribute name - see https://pandas.pydata.org/pandas-docs/stable/indexing.html#attribute-access\n",
      "\n"
     ]
    }
   ],
   "source": [
    "### Splitting data into train & test\n",
    "\n",
    "train,test = train_test_split(data_features, test_size = 0.2) \n",
    "\n",
    "cols = [col for col in data_features.columns if col not in [\"Disputed\"]]\n",
    "\n",
    "train.x= train[cols]\n",
    "train.y=train[\"Disputed\"]\n",
    "\n",
    "test.x=test[cols]\n",
    "test.y=test[\"Disputed\"]"
   ]
  },
  {
   "cell_type": "markdown",
   "metadata": {},
   "source": [
    "## Buildilng logistic regression model"
   ]
  },
  {
   "cell_type": "code",
   "execution_count": 56,
   "metadata": {},
   "outputs": [
    {
     "name": "stdout",
     "output_type": "stream",
     "text": [
      "Accuracy of logistic regression classifier on test set: 0.715\n",
      "             precision    recall  f1-score   support\n",
      "\n",
      "          0       0.71      1.00      0.83       143\n",
      "          1       0.00      0.00      0.00        57\n",
      "\n",
      "avg / total       0.51      0.71      0.60       200\n",
      "\n"
     ]
    },
    {
     "name": "stderr",
     "output_type": "stream",
     "text": [
      "C:\\Users\\Sowmya\\Anaconda3\\lib\\site-packages\\sklearn\\metrics\\classification.py:1135: UndefinedMetricWarning:\n",
      "\n",
      "Precision and F-score are ill-defined and being set to 0.0 in labels with no predicted samples.\n",
      "\n"
     ]
    }
   ],
   "source": [
    "from sklearn.linear_model import LogisticRegression\n",
    "logreg=LogisticRegression()\n",
    "logreg.fit(train.x,train.y)\n",
    "y_pred=logreg.predict(test.x)\n",
    "\n",
    "print('Accuracy of logistic regression classifier on test set:',logreg.score(test.x, test.y))\n",
    "\n",
    "\n",
    "from sklearn.metrics import classification_report\n",
    "print(classification_report(test.y, y_pred))\n"
   ]
  },
  {
   "cell_type": "markdown",
   "metadata": {},
   "source": [
    "### _Cross Validation for Logistic Regression Model_"
   ]
  },
  {
   "cell_type": "code",
   "execution_count": 57,
   "metadata": {},
   "outputs": [
    {
     "name": "stdout",
     "output_type": "stream",
     "text": [
      "10-fold cross validation average accuracy:  0.731143722338691\n"
     ]
    }
   ],
   "source": [
    "from sklearn import model_selection\n",
    "from sklearn.model_selection import cross_val_score\n",
    "kfold = model_selection.KFold(n_splits=15, random_state=7)\n",
    "modelCV = LogisticRegression()\n",
    "scoring = 'accuracy'\n",
    "results = model_selection.cross_val_score(modelCV, train.x, train.y, cv=kfold, scoring=scoring)\n",
    "print(\"10-fold cross validation average accuracy: \", (results.mean()))\n",
    "\n",
    "#preds1 = model_rbf.predict(test.x)\n",
    "#confusion_matrix(test.y.astype(int),preds1)"
   ]
  },
  {
   "cell_type": "markdown",
   "metadata": {},
   "source": [
    "### _Building Naive Bayes Model_"
   ]
  },
  {
   "cell_type": "code",
   "execution_count": 58,
   "metadata": {},
   "outputs": [
    {
     "data": {
      "text/plain": [
       "array([[121,  22],\n",
       "       [ 29,  28]], dtype=int64)"
      ]
     },
     "execution_count": 58,
     "metadata": {},
     "output_type": "execute_result"
    }
   ],
   "source": [
    "from sklearn.naive_bayes import GaussianNB\n",
    "gnb = GaussianNB()\n",
    "y_pred = gnb.fit(train.x, train.y).predict(test.x)\n",
    "confusion_matrix(test.y,y_pred)"
   ]
  },
  {
   "cell_type": "code",
   "execution_count": 59,
   "metadata": {},
   "outputs": [
    {
     "name": "stdout",
     "output_type": "stream",
     "text": [
      "0.745\n"
     ]
    }
   ],
   "source": [
    "accuracy_nb = metrics.accuracy_score(test.y, y_pred)\n",
    "print(accuracy_nb)"
   ]
  },
  {
   "cell_type": "code",
   "execution_count": null,
   "metadata": {},
   "outputs": [],
   "source": []
  },
  {
   "cell_type": "code",
   "execution_count": null,
   "metadata": {},
   "outputs": [],
   "source": []
  }
 ],
 "metadata": {
  "kernelspec": {
   "display_name": "Python 3",
   "language": "python",
   "name": "python3"
  },
  "language_info": {
   "codemirror_mode": {
    "name": "ipython",
    "version": 3
   },
   "file_extension": ".py",
   "mimetype": "text/x-python",
   "name": "python",
   "nbconvert_exporter": "python",
   "pygments_lexer": "ipython3",
   "version": "3.7.1"
  }
 },
 "nbformat": 4,
 "nbformat_minor": 2
}
